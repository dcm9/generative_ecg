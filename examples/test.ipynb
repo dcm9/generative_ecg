{
 "cells": [
  {
   "cell_type": "code",
   "execution_count": 11,
   "metadata": {},
   "outputs": [
    {
     "name": "stdout",
     "output_type": "stream",
     "text": [
      "C:\\Users\\Aaron Zhang\\Desktop\\ecg_project\\mlscience-ekgs\n"
     ]
    }
   ],
   "source": [
    "%cd C:\\Users\\Aaron Zhang\\Desktop\\ecg_project\\mlscience-ekgs\n",
    "from Generative_ECG.src.generative_ecg.dataset.load_data import load_dataset\n",
    "from Generative_ECG.src.generative_ecg.train.train_cnn_model import train_discriminator\n",
    "from Generative_ECG.src.generative_ecg.train.train_vae_model import train_vae\n",
    "from Generative_ECG.src.generative_ecg.generate.generate_ecg import generate_and_save_ecgs\n",
    "from pathlib import Path\n",
    "\n",
    "ptb_xl_path = r\"C:\\Users\\Aaron Zhang\\Desktop\\ecg_project\\mlscience-ekgs\\mlscience_ekgs\\Data\\raw\\ptb-xl\"\n",
    "result_path = r\"C:\\Users\\Aaron Zhang\\Desktop\\ecg_project\\mlscience-ekgs\\mlscience_ekgs\\Data\\results\""
   ]
  },
  {
   "cell_type": "markdown",
   "metadata": {},
   "source": [
    "# Generative ECG Example"
   ]
  },
  {
   "cell_type": "markdown",
   "metadata": {},
   "source": [
    "This code notebook is meant to be a reference to using the functionalities of the Generative ECG repository. In general, this code notebook walks through 4 specific functions:\n",
    "1. load_dataset - this function takes in the path of the dataset and other optional arguments to load the dataset into memory as well as save the data in a user specified directory. \n",
    "\n",
    "2. train_discriminator - this function trains a CNN discriminator model that is saved to a user specified path\n",
    "\n",
    "3. train_vae - this function trains a generative VAE model that will be used to generate the ECGs\n",
    "\n",
    "4. generate_and_save_ecgs - this function will plot the ECGs through the input VAE, and then save the ecgs to a user specified path"
   ]
  },
  {
   "cell_type": "code",
   "execution_count": 4,
   "metadata": {},
   "outputs": [
    {
     "name": "stdout",
     "output_type": "stream",
     "text": [
      "Loaded dataset from C:\\Users\\Aaron Zhang\\Desktop\\ecg_project\\mlscience-ekgs\\mlscience_ekgs\\Data\\raw\\ptb-xl with shape X_tr: (181759, 9, 300),y_tr: (181759,), X_te: (20293, 9, 300), y_te: (20293,)\n"
     ]
    }
   ],
   "source": [
    "X_tr, y_tr, X_te, y_te, _ = load_dataset(ptb_xl_path, beat_segment=True, processed=True)"
   ]
  },
  {
   "cell_type": "markdown",
   "metadata": {},
   "source": [
    "load_dataset will automatically return the processed train and test features, but if load_dataset already ran once, processed flag can be used to automatically load the train and test files"
   ]
  },
  {
   "cell_type": "code",
   "execution_count": 6,
   "metadata": {},
   "outputs": [
    {
     "name": "stderr",
     "output_type": "stream",
     "text": [
      "Epoch      2 | RMSE:   25.88020: 100%|██████████| 2/2 [00:51<00:00, 25.83s/it]\n"
     ]
    },
    {
     "name": "stdout",
     "output_type": "stream",
     "text": [
      "Test loss: 29.4504\n"
     ]
    }
   ],
   "source": [
    "ckpt_dir = train_discriminator(X_tr, y_tr, X_te, y_te, result_path, n_epochs=2, beat_segment=True, processed=True)  "
   ]
  },
  {
   "cell_type": "code",
   "execution_count": 7,
   "metadata": {},
   "outputs": [
    {
     "name": "stdout",
     "output_type": "stream",
     "text": [
      "Encoder params size: (249968,)\n",
      "Decoder params size: (351600,)\n"
     ]
    },
    {
     "name": "stderr",
     "output_type": "stream",
     "text": [
      "Epoch 4 average loss: 5.527275562286377: 100%|██████████| 5/5 [11:21<00:00, 136.29s/it]\n"
     ]
    }
   ],
   "source": [
    "# del y_tr, X_te, y_te\n",
    "result_path = Path(result_path)\n",
    "result = train_vae(X_tr, ckpt_dir, result_path, beat_segment=True, processed=True, n_epochs=5)"
   ]
  },
  {
   "cell_type": "code",
   "execution_count": 8,
   "metadata": {},
   "outputs": [
    {
     "name": "stderr",
     "output_type": "stream",
     "text": [
      "100%|██████████| 5/5 [00:03<00:00,  1.66it/s]\n"
     ]
    }
   ],
   "source": [
    "generate_and_save_ecgs(X_tr, result, result_path, processed=True)"
   ]
  }
 ],
 "metadata": {
  "kernelspec": {
   "display_name": "Python 3",
   "language": "python",
   "name": "python3"
  },
  "language_info": {
   "codemirror_mode": {
    "name": "ipython",
    "version": 3
   },
   "file_extension": ".py",
   "mimetype": "text/x-python",
   "name": "python",
   "nbconvert_exporter": "python",
   "pygments_lexer": "ipython3",
   "version": "3.11.2"
  }
 },
 "nbformat": 4,
 "nbformat_minor": 2
}
