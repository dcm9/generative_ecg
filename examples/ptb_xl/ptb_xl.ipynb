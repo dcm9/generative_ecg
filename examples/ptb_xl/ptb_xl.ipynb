{
 "cells": [
  {
   "cell_type": "code",
   "execution_count": 5,
   "metadata": {},
   "outputs": [
    {
     "name": "stderr",
     "output_type": "stream",
     "text": [
      "Loading data from records: 100%|██████████| 21799/21799 [03:28<00:00, 104.64it/s]\n",
      "Processing and Filtering Beats:  11%|█         | 2327/21799 [02:50<21:06, 15.38it/s]c:\\Users\\Aaron Zhang\\Desktop\\College\\Senior Year\\generative_ecg\\.venv\\Lib\\site-packages\\neurokit2\\signal\\signal_fixpeaks.py:307: RuntimeWarning: divide by zero encountered in divide\n",
      "  mrrs /= th2\n",
      "c:\\Users\\Aaron Zhang\\Desktop\\College\\Senior Year\\generative_ecg\\.venv\\Lib\\site-packages\\neurokit2\\signal\\signal_fixpeaks.py:307: RuntimeWarning: invalid value encountered in divide\n",
      "  mrrs /= th2\n",
      "Processing and Filtering Beats:  26%|██▋       | 5735/21799 [07:11<18:53, 14.18it/s]c:\\Users\\Aaron Zhang\\Desktop\\College\\Senior Year\\generative_ecg\\.venv\\Lib\\site-packages\\neurokit2\\signal\\signal_fixpeaks.py:307: RuntimeWarning: divide by zero encountered in divide\n",
      "  mrrs /= th2\n",
      "c:\\Users\\Aaron Zhang\\Desktop\\College\\Senior Year\\generative_ecg\\.venv\\Lib\\site-packages\\neurokit2\\signal\\signal_fixpeaks.py:307: RuntimeWarning: invalid value encountered in divide\n",
      "  mrrs /= th2\n",
      "Processing and Filtering Beats:  71%|███████   | 15448/21799 [20:28<09:20, 11.33it/s]c:\\Users\\Aaron Zhang\\Desktop\\College\\Senior Year\\generative_ecg\\.venv\\Lib\\site-packages\\neurokit2\\signal\\signal_fixpeaks.py:307: RuntimeWarning: divide by zero encountered in divide\n",
      "  mrrs /= th2\n",
      "c:\\Users\\Aaron Zhang\\Desktop\\College\\Senior Year\\generative_ecg\\.venv\\Lib\\site-packages\\neurokit2\\signal\\signal_fixpeaks.py:307: RuntimeWarning: invalid value encountered in divide\n",
      "  mrrs /= th2\n",
      "Processing and Filtering Beats:  72%|███████▏  | 15634/21799 [20:45<07:56, 12.95it/s]c:\\Users\\Aaron Zhang\\Desktop\\College\\Senior Year\\generative_ecg\\.venv\\Lib\\site-packages\\neurokit2\\signal\\signal_fixpeaks.py:307: RuntimeWarning: divide by zero encountered in divide\n",
      "  mrrs /= th2\n",
      "c:\\Users\\Aaron Zhang\\Desktop\\College\\Senior Year\\generative_ecg\\.venv\\Lib\\site-packages\\neurokit2\\signal\\signal_fixpeaks.py:307: RuntimeWarning: invalid value encountered in divide\n",
      "  mrrs /= th2\n",
      "Processing and Filtering Beats:  77%|███████▋  | 16835/21799 [22:32<05:51, 14.12it/s]c:\\Users\\Aaron Zhang\\Desktop\\College\\Senior Year\\generative_ecg\\.venv\\Lib\\site-packages\\neurokit2\\signal\\signal_fixpeaks.py:307: RuntimeWarning: invalid value encountered in divide\n",
      "  mrrs /= th2\n",
      "Processing and Filtering Beats:  93%|█████████▎| 20324/21799 [27:55<02:12, 11.10it/s]c:\\Users\\Aaron Zhang\\Desktop\\College\\Senior Year\\generative_ecg\\.venv\\Lib\\site-packages\\neurokit2\\signal\\signal_fixpeaks.py:307: RuntimeWarning: divide by zero encountered in divide\n",
      "  mrrs /= th2\n",
      "c:\\Users\\Aaron Zhang\\Desktop\\College\\Senior Year\\generative_ecg\\.venv\\Lib\\site-packages\\neurokit2\\signal\\signal_fixpeaks.py:307: RuntimeWarning: invalid value encountered in divide\n",
      "  mrrs /= th2\n",
      "Processing and Filtering Beats:  94%|█████████▍| 20553/21799 [28:15<02:04, 10.04it/s]c:\\Users\\Aaron Zhang\\Desktop\\College\\Senior Year\\generative_ecg\\.venv\\Lib\\site-packages\\neurokit2\\signal\\signal_period.py:84: NeuroKitWarning: Too few peaks detected to compute the rate. Returning empty vector.\n",
      "  warn(\n",
      "Processing and Filtering Beats:  95%|█████████▌| 20790/21799 [28:38<01:37, 10.30it/s]c:\\Users\\Aaron Zhang\\Desktop\\College\\Senior Year\\generative_ecg\\.venv\\Lib\\site-packages\\numpy\\core\\fromnumeric.py:3504: RuntimeWarning: Mean of empty slice.\n",
      "  return _methods._mean(a, axis=axis, dtype=dtype,\n",
      "c:\\Users\\Aaron Zhang\\Desktop\\College\\Senior Year\\generative_ecg\\.venv\\Lib\\site-packages\\numpy\\core\\_methods.py:129: RuntimeWarning: invalid value encountered in scalar divide\n",
      "  ret = ret.dtype.type(ret / rcount)\n",
      "c:\\Users\\Aaron Zhang\\Desktop\\College\\Senior Year\\generative_ecg\\.venv\\Lib\\site-packages\\neurokit2\\signal\\signal_period.py:84: NeuroKitWarning: Too few peaks detected to compute the rate. Returning empty vector.\n",
      "  warn(\n",
      "Processing and Filtering Beats: 100%|██████████| 21799/21799 [30:19<00:00, 11.98it/s]\n"
     ]
    },
    {
     "name": "stdout",
     "output_type": "stream",
     "text": [
      "(34064, 9, 400) (34064,)\n"
     ]
    }
   ],
   "source": [
    "from generative_ecg.dataset import load_signals, get_peaks, segment, filter_beats, project, save_beat_dataset, load_beat_dataset\n",
    "from generative_ecg.train import train_cnn\n",
    "import tqdm\n",
    "import jax\n",
    "\n",
    "from pathlib import Path\n",
    "\n",
    "ptb_xl_path = r\"C:\\Users\\Aaron Zhang\\Desktop\\College\\Senior Year\\generative_ecg\\examples\\ptb_xl\\data\"\n",
    "result_path = r\"C:\\Users\\Aaron Zhang\\Desktop\\College\\Senior Year\\generative_ecg\\examples\\ptb_xl\\results\"\n",
    "\n",
    "x_signals, y_signals = load_signals(filepath=ptb_xl_path, sampling_rate=500)\n",
    "x_beats, y_beats = [], []\n",
    "\n",
    "# TESTING \n",
    "# \n",
    "# jax.numpy.save(result_path + r\"\\unprocessed\\x_signals.npy\", x_signals)\n",
    "# jax.numpy.save(result_path + r\"\\unprocessed\\y_signals.npy\", y_signals)\n",
    "\n",
    "# x_signals = jax.numpy.load(result_path + r\"\\unprocessed\\x_signals.npy\")\n",
    "# y_signals = jax.numpy.load(result_path + r\"\\unprocessed\\y_signals.npy\")\n",
    "\n",
    "x_beats = jax.numpy.zeros((0, 9, 400))\n",
    "y_beats = jax.numpy.zeros((0,))\n",
    "\n",
    "for i, x_signal in enumerate(tqdm.tqdm(x_signals, desc=\"Processing and Filtering Beats\")):\n",
    "    try:\n",
    "        y_signal = y_signals[i]\n",
    "        x_peaks = get_peaks(x_signal, sampling_rate=500)\n",
    "        x_seg, x_windows = segment(x_signal, x_peaks, tmax=400)\n",
    "        x_filter, y_filter = filter_beats(x_seg, y_signal, x_windows, x_peaks, drop_first=True, drop_last=True, range_min=0.5, sd_min=0.06)\n",
    "\n",
    "        x_proj, y_proj = project(x_filter, y_filter, tol=1e-6)\n",
    "        if x_proj.shape[0] != 0:\n",
    "            x_beats = jax.numpy.concatenate([x_beats, x_proj], axis=0)\n",
    "            y_beats = jax.numpy.concatenate([y_beats, y_proj], axis=0)\n",
    "        \n",
    "    except:\n",
    "        continue\n",
    "\n",
    "print(x_beats.shape, y_beats.shape)\n",
    "# Finally, create a custom save & load pair of functions if you want to skip the above work\n",
    "save_beat_dataset(x_beats, y_beats, filepath=result_path)"
   ]
  },
  {
   "cell_type": "markdown",
   "metadata": {},
   "source": [
    "# Generative ECG Example"
   ]
  },
  {
   "cell_type": "code",
   "execution_count": null,
   "metadata": {},
   "outputs": [
    {
     "name": "stderr",
     "output_type": "stream",
     "text": [
      "Training: 100%|██████████| 100/100 [45:16<00:00, 27.17s/epoch]\n"
     ]
    },
    {
     "name": "stdout",
     "output_type": "stream",
     "text": [
      "Validation Loss: 28.6850\n"
     ]
    }
   ],
   "source": [
    "from generative_ecg.models import ECGConv, rmse_loss\n",
    "from generative_ecg.dataset import load_signals, get_peaks, segment, filter_beats, project, save_beat_dataset, load_beat_dataset\n",
    "from generative_ecg.train import train_cnn\n",
    "import optax\n",
    "import sklearn\n",
    "\n",
    "ptb_xl_path = r\"C:\\Users\\Aaron Zhang\\Desktop\\College\\Senior Year\\generative_ecg\\examples\\ptb_xl\\data\"\n",
    "result_path = r\"C:\\Users\\Aaron Zhang\\Desktop\\College\\Senior Year\\generative_ecg\\examples\\ptb_xl\\results\"\n",
    "\n",
    "x_beats, y_beats = load_beat_dataset(filepath=result_path)\n",
    "\n",
    "model = ECGConv(output_dim=1)\n",
    "loss_fn = rmse_loss\n",
    "lr_schedule = optax.warmup_cosine_decay_schedule(\n",
    "    init_value=1e-3,\n",
    "    peak_value=1e-2,\n",
    "    warmup_steps=50,\n",
    "    decay_steps=1000,\n",
    "    end_value=1e-3\n",
    ")\n",
    "\n",
    "X_tr, X_te, y_tr, y_te = sklearn.model_selection.train_test_split(x_beats, y_beats, random_state=42)\n",
    "\n",
    "# print(X_tr.shape, X_te.shape, y_tr.shape, y_te.shape)\n",
    "\n",
    "state = train_cnn(X_tr, X_te, y_tr, y_te, model, loss_fn, lr_schedule, ckpt_dir=result_path + \"/cnn_model_checkpoint/\", batch_size=64, n_epochs=100)"
   ]
  },
  {
   "cell_type": "markdown",
   "metadata": {},
   "source": [
    "# Load CNN, VAE hyperparameters"
   ]
  },
  {
   "cell_type": "code",
   "execution_count": null,
   "metadata": {},
   "outputs": [],
   "source": [
    "from generative_ecg.train import create_cnn_train_state, train_vae\n",
    "from generative_ecg.models import ECGConv\n",
    "from flax.training import orbax_checkpoint\n",
    "\n",
    "model_params = {\n",
    "    \"beta1\": 1.0,\n",
    "    \"beta2\": 0.0,\n",
    "    \"z_dim\": 512,\n",
    "    \"hidden_width\": 100,\n",
    "    \"hidden_depth\": 4,\n",
    "    \"lr_init\": 1e-7,\n",
    "    \"lr_peak\": 1e-4,\n",
    "    \"lr_end\": 1e-7,\n",
    "    \"beta1_scheduler\": \"warmup_cosine\",\n",
    "    \"target\": \"age\",\n",
    "    \"n_channels\": 12,\n",
    "    \"beat_segment\": False,\n",
    "    \"processed\": False,\n",
    "    \"seed\": 0,\n",
    "    \"batch_size\": 512,\n",
    "    \"n_epochs\": 100,\n",
    "    \"encoder_type\": \"cnn\",\n",
    "    \"use_bias\": False\n",
    "}\n",
    "\n",
    "state_disc = create_cnn_train_state(X_tr)\n",
    "ckptr = orbax_checkpoint.Checkpointer(orbax_checkpoint.PyTreeCheckpointHandler())\n",
    "state_disc = ckptr.restore(\n",
    "    result_path + \"/cnn_model_checkpoint/\", item=state_disc\n",
    ")\n",
    "model = ECGConv(output_dim=1)\n",
    "vae_pred_fn = lambda x: model.apply(state_disc.params, x)\n",
    "\n",
    "train_vae(X_tr, X_te, y_tr, y_te, vae_pred_fn, model_params, ckpt_dir=result_path + \"/vae_model_checkpoint/\")"
   ]
  },
  {
   "cell_type": "code",
   "execution_count": null,
   "metadata": {},
   "outputs": [
    {
     "ename": "NameError",
     "evalue": "name 'Path' is not defined",
     "output_type": "error",
     "traceback": [
      "\u001b[1;31m---------------------------------------------------------------------------\u001b[0m",
      "\u001b[1;31mNameError\u001b[0m                                 Traceback (most recent call last)",
      "Cell \u001b[1;32mIn[1], line 2\u001b[0m\n\u001b[0;32m      1\u001b[0m \u001b[38;5;66;03m# del y_tr, X_te, y_te\u001b[39;00m\n\u001b[1;32m----> 2\u001b[0m result_path \u001b[38;5;241m=\u001b[39m \u001b[43mPath\u001b[49m(result_path)\n\u001b[0;32m      3\u001b[0m result \u001b[38;5;241m=\u001b[39m train_vae(X_tr, ckpt_dir, result_path, beat_segment\u001b[38;5;241m=\u001b[39m\u001b[38;5;28;01mTrue\u001b[39;00m, processed\u001b[38;5;241m=\u001b[39m\u001b[38;5;28;01mTrue\u001b[39;00m, n_epochs\u001b[38;5;241m=\u001b[39m\u001b[38;5;241m5\u001b[39m)\n",
      "\u001b[1;31mNameError\u001b[0m: name 'Path' is not defined"
     ]
    }
   ],
   "source": [
    "result_path = Path(result_path)\n",
    "result = train_vae(X_tr, ckpt_dir, result_path, beat_segment=True, processed=True, n_epochs=5)"
   ]
  },
  {
   "cell_type": "code",
   "execution_count": 1,
   "metadata": {},
   "outputs": [
    {
     "ename": "NameError",
     "evalue": "name 'generate_and_save_ecgs' is not defined",
     "output_type": "error",
     "traceback": [
      "\u001b[1;31m---------------------------------------------------------------------------\u001b[0m",
      "\u001b[1;31mNameError\u001b[0m                                 Traceback (most recent call last)",
      "Cell \u001b[1;32mIn[1], line 1\u001b[0m\n\u001b[1;32m----> 1\u001b[0m \u001b[43mgenerate_and_save_ecgs\u001b[49m(X_tr, result, result_path, processed\u001b[38;5;241m=\u001b[39m\u001b[38;5;28;01mTrue\u001b[39;00m)\n",
      "\u001b[1;31mNameError\u001b[0m: name 'generate_and_save_ecgs' is not defined"
     ]
    }
   ],
   "source": [
    "generate_and_save_ecgs(X_tr, result, result_path, processed=True)"
   ]
  },
  {
   "cell_type": "code",
   "execution_count": null,
   "metadata": {},
   "outputs": [],
   "source": []
  }
 ],
 "metadata": {
  "kernelspec": {
   "display_name": ".venv",
   "language": "python",
   "name": "python3"
  },
  "language_info": {
   "codemirror_mode": {
    "name": "ipython",
    "version": 3
   },
   "file_extension": ".py",
   "mimetype": "text/x-python",
   "name": "python",
   "nbconvert_exporter": "python",
   "pygments_lexer": "ipython3",
   "version": "3.12.7"
  }
 },
 "nbformat": 4,
 "nbformat_minor": 2
}
