{
 "cells": [
  {
   "cell_type": "code",
   "execution_count": null,
   "metadata": {},
   "outputs": [
    {
     "name": "stderr",
     "output_type": "stream",
     "text": [
      "Loading data from records: 100%|██████████| 21799/21799 [03:28<00:00, 104.64it/s]\n",
      "Processing and Filtering Beats:  11%|█         | 2327/21799 [02:50<21:06, 15.38it/s]c:\\Users\\Aaron Zhang\\Desktop\\College\\Senior Year\\generative_ecg\\.venv\\Lib\\site-packages\\neurokit2\\signal\\signal_fixpeaks.py:307: RuntimeWarning: divide by zero encountered in divide\n",
      "  mrrs /= th2\n",
      "c:\\Users\\Aaron Zhang\\Desktop\\College\\Senior Year\\generative_ecg\\.venv\\Lib\\site-packages\\neurokit2\\signal\\signal_fixpeaks.py:307: RuntimeWarning: invalid value encountered in divide\n",
      "  mrrs /= th2\n",
      "Processing and Filtering Beats:  26%|██▋       | 5735/21799 [07:11<18:53, 14.18it/s]c:\\Users\\Aaron Zhang\\Desktop\\College\\Senior Year\\generative_ecg\\.venv\\Lib\\site-packages\\neurokit2\\signal\\signal_fixpeaks.py:307: RuntimeWarning: divide by zero encountered in divide\n",
      "  mrrs /= th2\n",
      "c:\\Users\\Aaron Zhang\\Desktop\\College\\Senior Year\\generative_ecg\\.venv\\Lib\\site-packages\\neurokit2\\signal\\signal_fixpeaks.py:307: RuntimeWarning: invalid value encountered in divide\n",
      "  mrrs /= th2\n",
      "Processing and Filtering Beats:  71%|███████   | 15448/21799 [20:28<09:20, 11.33it/s]c:\\Users\\Aaron Zhang\\Desktop\\College\\Senior Year\\generative_ecg\\.venv\\Lib\\site-packages\\neurokit2\\signal\\signal_fixpeaks.py:307: RuntimeWarning: divide by zero encountered in divide\n",
      "  mrrs /= th2\n",
      "c:\\Users\\Aaron Zhang\\Desktop\\College\\Senior Year\\generative_ecg\\.venv\\Lib\\site-packages\\neurokit2\\signal\\signal_fixpeaks.py:307: RuntimeWarning: invalid value encountered in divide\n",
      "  mrrs /= th2\n",
      "Processing and Filtering Beats:  72%|███████▏  | 15634/21799 [20:45<07:56, 12.95it/s]c:\\Users\\Aaron Zhang\\Desktop\\College\\Senior Year\\generative_ecg\\.venv\\Lib\\site-packages\\neurokit2\\signal\\signal_fixpeaks.py:307: RuntimeWarning: divide by zero encountered in divide\n",
      "  mrrs /= th2\n",
      "c:\\Users\\Aaron Zhang\\Desktop\\College\\Senior Year\\generative_ecg\\.venv\\Lib\\site-packages\\neurokit2\\signal\\signal_fixpeaks.py:307: RuntimeWarning: invalid value encountered in divide\n",
      "  mrrs /= th2\n",
      "Processing and Filtering Beats:  77%|███████▋  | 16835/21799 [22:32<05:51, 14.12it/s]c:\\Users\\Aaron Zhang\\Desktop\\College\\Senior Year\\generative_ecg\\.venv\\Lib\\site-packages\\neurokit2\\signal\\signal_fixpeaks.py:307: RuntimeWarning: invalid value encountered in divide\n",
      "  mrrs /= th2\n",
      "Processing and Filtering Beats:  93%|█████████▎| 20324/21799 [27:55<02:12, 11.10it/s]c:\\Users\\Aaron Zhang\\Desktop\\College\\Senior Year\\generative_ecg\\.venv\\Lib\\site-packages\\neurokit2\\signal\\signal_fixpeaks.py:307: RuntimeWarning: divide by zero encountered in divide\n",
      "  mrrs /= th2\n",
      "c:\\Users\\Aaron Zhang\\Desktop\\College\\Senior Year\\generative_ecg\\.venv\\Lib\\site-packages\\neurokit2\\signal\\signal_fixpeaks.py:307: RuntimeWarning: invalid value encountered in divide\n",
      "  mrrs /= th2\n",
      "Processing and Filtering Beats:  94%|█████████▍| 20553/21799 [28:15<02:04, 10.04it/s]c:\\Users\\Aaron Zhang\\Desktop\\College\\Senior Year\\generative_ecg\\.venv\\Lib\\site-packages\\neurokit2\\signal\\signal_period.py:84: NeuroKitWarning: Too few peaks detected to compute the rate. Returning empty vector.\n",
      "  warn(\n",
      "Processing and Filtering Beats:  95%|█████████▌| 20790/21799 [28:38<01:37, 10.30it/s]c:\\Users\\Aaron Zhang\\Desktop\\College\\Senior Year\\generative_ecg\\.venv\\Lib\\site-packages\\numpy\\core\\fromnumeric.py:3504: RuntimeWarning: Mean of empty slice.\n",
      "  return _methods._mean(a, axis=axis, dtype=dtype,\n",
      "c:\\Users\\Aaron Zhang\\Desktop\\College\\Senior Year\\generative_ecg\\.venv\\Lib\\site-packages\\numpy\\core\\_methods.py:129: RuntimeWarning: invalid value encountered in scalar divide\n",
      "  ret = ret.dtype.type(ret / rcount)\n",
      "c:\\Users\\Aaron Zhang\\Desktop\\College\\Senior Year\\generative_ecg\\.venv\\Lib\\site-packages\\neurokit2\\signal\\signal_period.py:84: NeuroKitWarning: Too few peaks detected to compute the rate. Returning empty vector.\n",
      "  warn(\n",
      "Processing and Filtering Beats: 100%|██████████| 21799/21799 [30:19<00:00, 11.98it/s]\n"
     ]
    },
    {
     "name": "stdout",
     "output_type": "stream",
     "text": [
      "(34064, 9, 400) (34064,)\n"
     ]
    }
   ],
   "source": [
    "from generative_ecg.dataset import load_signals, get_peaks, segment, filter_beats, project, save_beat_dataset, load_beat_dataset\n",
    "from generative_ecg.train import train_cnn\n",
    "import tqdm\n",
    "import jax\n",
    "\n",
    "from pathlib import Path\n",
    "\n",
    "ptb_xl_path = r\"C:\\Users\\Aaron Zhang\\Desktop\\College\\Senior Year\\generative_ecg\\examples\\ptb_xl\\data\"\n",
    "result_path = r\"C:\\Users\\Aaron Zhang\\Desktop\\College\\Senior Year\\generative_ecg\\examples\\ptb_xl\\results\"\n",
    "\n",
    "x_signals, y_signals = load_signals(filepath=ptb_xl_path, sampling_rate=500)\n",
    "x_beats, y_beats = [], []\n",
    "\n",
    "x_beats = jax.numpy.zeros((0, 9, 400))\n",
    "y_beats = jax.numpy.zeros((0,))\n",
    "\n",
    "for i, x_signal in enumerate(tqdm.tqdm(x_signals, desc=\"Processing and Filtering Beats\")):\n",
    "    try:\n",
    "        y_signal = y_signals[i]\n",
    "        x_peaks = get_peaks(x_signal, sampling_rate=500)\n",
    "        x_seg, x_windows = segment(x_signal, x_peaks, tmax=400)\n",
    "        x_filter, y_filter = filter_beats(x_seg, y_signal, x_windows, x_peaks, drop_first=True, drop_last=True, range_min=0.5, sd_min=0.06)\n",
    "\n",
    "        x_proj, y_proj = project(x_filter, y_filter, tol=1e-6)\n",
    "        if x_proj.shape[0] != 0:\n",
    "            x_beats = jax.numpy.concatenate([x_beats, x_proj], axis=0)\n",
    "            y_beats = jax.numpy.concatenate([y_beats, y_proj], axis=0)\n",
    "        \n",
    "    except:\n",
    "        continue\n",
    "\n",
    "print(x_beats.shape, y_beats.shape)\n",
    "# Finally, create a custom save & load pair of functions if you want to skip the above work\n",
    "save_beat_dataset(x_beats, y_beats, filepath=result_path)"
   ]
  },
  {
   "cell_type": "markdown",
   "metadata": {},
   "source": [
    "# Generative ECG Example"
   ]
  },
  {
   "cell_type": "code",
   "execution_count": 1,
   "metadata": {},
   "outputs": [],
   "source": [
    "from generative_ecg.models import ECGConv, rmse_loss\n",
    "from generative_ecg.dataset import load_signals, get_peaks, segment, filter_beats, project, save_beat_dataset, load_beat_dataset\n",
    "from generative_ecg.train import train_cnn\n",
    "import optax\n",
    "import sklearn\n",
    "\n",
    "ptb_xl_path = r\"C:\\Users\\Aaron Zhang\\Desktop\\College\\Senior Year\\generative_ecg\\examples\\ptb_xl\\data\"\n",
    "result_path = r\"C:\\Users\\Aaron Zhang\\Desktop\\College\\Senior Year\\generative_ecg\\examples\\ptb_xl\\results\"\n",
    "\n",
    "x_beats, y_beats = load_beat_dataset(filepath=result_path)\n",
    "\n",
    "model = ECGConv(output_dim=1)\n",
    "loss_fn = rmse_loss\n",
    "lr_schedule = optax.warmup_cosine_decay_schedule(\n",
    "    init_value=1e-3,\n",
    "    peak_value=1e-2,\n",
    "    warmup_steps=50,\n",
    "    decay_steps=1000,\n",
    "    end_value=1e-3\n",
    ")\n",
    "\n",
    "X_tr, X_te, y_tr, y_te = sklearn.model_selection.train_test_split(x_beats, y_beats, random_state=42)"
   ]
  },
  {
   "cell_type": "code",
   "execution_count": 2,
   "metadata": {},
   "outputs": [],
   "source": [
    "# state = train_cnn(X_tr, X_te, y_tr, y_te, model, loss_fn, lr_schedule, ckpt_dir=result_path + \"/cnn_model_checkpoint/\", batch_size=64, n_epochs=100)"
   ]
  },
  {
   "cell_type": "markdown",
   "metadata": {},
   "source": [
    "# Load CNN, train VAE"
   ]
  },
  {
   "cell_type": "code",
   "execution_count": null,
   "metadata": {},
   "outputs": [
    {
     "name": "stdout",
     "output_type": "stream",
     "text": [
      "Encoder params size: (288368,)\n",
      "Decoder params size: (441600,)\n"
     ]
    },
    {
     "name": "stderr",
     "output_type": "stream",
     "text": [
      "Epoch 4 average loss 9.4886: 100%|██████████| 5/5 [13:01<00:00, 156.20s/it] \n"
     ]
    }
   ],
   "source": [
    "from generative_ecg.train import create_cnn_train_state, train_vae\n",
    "from generative_ecg.models import ECGConv\n",
    "import orbax.checkpoint\n",
    "\n",
    "model_params = {\n",
    "    \"beta1\": 1.0,\n",
    "    \"beta2\": 0.0,\n",
    "    \"z_dim\": 512,\n",
    "    \"hidden_width\": 100,\n",
    "    \"hidden_depth\": 4,\n",
    "    \"lr_init\": 1e-7,\n",
    "    \"lr_peak\": 1e-4,\n",
    "    \"lr_end\": 1e-7,\n",
    "    \"beta1_scheduler\": \"warmup_cosine\",\n",
    "    \"target\": \"age\",\n",
    "    \"n_channels\": 12,\n",
    "    \"beat_segment\": False,\n",
    "    \"processed\": False,\n",
    "    \"seed\": 0,\n",
    "    \"batch_size\": 512,\n",
    "    \"n_epochs\": 5,\n",
    "    \"encoder_type\": \"cnn\",\n",
    "    \"use_bias\": False\n",
    "}\n",
    "\n",
    "state_disc = create_cnn_train_state(X_tr)\n",
    "ckptr = orbax.checkpoint.Checkpointer(orbax.checkpoint.PyTreeCheckpointHandler())\n",
    "state_disc = ckptr.restore(\n",
    "    result_path + \"/cnn_model_checkpoint/\", item=state_disc\n",
    ")\n",
    "model = ECGConv(output_dim=1)\n",
    "vae_pred_fn = lambda x: model.apply(state_disc.params, x)\n",
    "\n",
    "result = train_vae(X_tr, y_tr, vae_pred_fn, model_params, lr_schedule, ckpt_dir=result_path + \"/vae_model_checkpoint/\")"
   ]
  },
  {
   "cell_type": "code",
   "execution_count": null,
   "metadata": {},
   "outputs": [
    {
     "name": "stdout",
     "output_type": "stream",
     "text": [
      "[-0.03318268 -0.03163719 -0.02997451 ...  0.20374052  0.06817751\n",
      " -0.01388908]\n"
     ]
    },
    {
     "name": "stderr",
     "output_type": "stream",
     "text": [
      "  0%|          | 0/10 [00:00<?, ?it/s]\n"
     ]
    },
    {
     "ename": "TypeError",
     "evalue": "'NoneType' object is not callable",
     "output_type": "error",
     "traceback": [
      "\u001b[1;31m---------------------------------------------------------------------------\u001b[0m",
      "\u001b[1;31mTypeError\u001b[0m                                 Traceback (most recent call last)",
      "Cell \u001b[1;32mIn[13], line 23\u001b[0m\n\u001b[0;32m      8\u001b[0m \u001b[38;5;28mprint\u001b[39m(result[\u001b[38;5;124m'\u001b[39m\u001b[38;5;124mparams_dec\u001b[39m\u001b[38;5;124m'\u001b[39m])\n\u001b[0;32m     10\u001b[0m gen_params \u001b[38;5;241m=\u001b[39m {\n\u001b[0;32m     11\u001b[0m     \u001b[38;5;124m\"\u001b[39m\u001b[38;5;124mseed\u001b[39m\u001b[38;5;124m\"\u001b[39m: \u001b[38;5;241m0\u001b[39m,\n\u001b[0;32m     12\u001b[0m     \u001b[38;5;124m\"\u001b[39m\u001b[38;5;124mn_ecgs\u001b[39m\u001b[38;5;124m\"\u001b[39m: \u001b[38;5;241m10\u001b[39m,\n\u001b[1;32m   (...)\u001b[0m\n\u001b[0;32m     19\u001b[0m     \u001b[38;5;124m\"\u001b[39m\u001b[38;5;124mylim\u001b[39m\u001b[38;5;124m\"\u001b[39m: \u001b[38;5;28;01mNone\u001b[39;00m,\n\u001b[0;32m     20\u001b[0m }\n\u001b[1;32m---> 23\u001b[0m \u001b[43mgenerate_ecgs\u001b[49m\u001b[43m(\u001b[49m\u001b[43mX_tr\u001b[49m\u001b[43m,\u001b[49m\u001b[43m \u001b[49m\u001b[43mresult\u001b[49m\u001b[43m,\u001b[49m\u001b[43m \u001b[49m\u001b[43mgen_params\u001b[49m\u001b[43m,\u001b[49m\u001b[43m \u001b[49m\u001b[43msave_dir\u001b[49m\u001b[38;5;241;43m=\u001b[39;49m\u001b[43mresult_path\u001b[49m\u001b[43m \u001b[49m\u001b[38;5;241;43m+\u001b[39;49m\u001b[43m \u001b[49m\u001b[38;5;124;43m\"\u001b[39;49m\u001b[38;5;124;43m/generated_ecgs/\u001b[39;49m\u001b[38;5;124;43m\"\u001b[39;49m\u001b[43m)\u001b[49m\n",
      "File \u001b[1;32m~\\Desktop\\College\\Senior Year\\generative_ecg\\src\\generative_ecg\\generate\\generate_ecg.py:29\u001b[0m, in \u001b[0;36mgenerate_ecgs\u001b[1;34m(X, result, gen_params, save_dir)\u001b[0m\n\u001b[0;32m     22\u001b[0m sigmasq \u001b[38;5;241m=\u001b[39m plot_gaussian_noise(\n\u001b[0;32m     23\u001b[0m     result[\u001b[38;5;124m\"\u001b[39m\u001b[38;5;124msigmasq_mean\u001b[39m\u001b[38;5;124m\"\u001b[39m], result[\u001b[38;5;124m\"\u001b[39m\u001b[38;5;124msigmasq_std\u001b[39m\u001b[38;5;124m\"\u001b[39m], key2, shape\u001b[38;5;241m=\u001b[39m(gen_params[\u001b[38;5;124m\"\u001b[39m\u001b[38;5;124mz_dim\u001b[39m\u001b[38;5;124m\"\u001b[39m],)\n\u001b[0;32m     24\u001b[0m )\n\u001b[0;32m     25\u001b[0m z \u001b[38;5;241m=\u001b[39m plot_gaussian_noise(\n\u001b[0;32m     26\u001b[0m     mu, jax\u001b[38;5;241m.\u001b[39mnumpy\u001b[38;5;241m.\u001b[39msqrt(sigmasq), key3, shape\u001b[38;5;241m=\u001b[39m(gen_params[\u001b[38;5;124m\"\u001b[39m\u001b[38;5;124mz_dim\u001b[39m\u001b[38;5;124m\"\u001b[39m],)\n\u001b[0;32m     27\u001b[0m )\n\u001b[1;32m---> 29\u001b[0m x \u001b[38;5;241m=\u001b[39m \u001b[43mresult\u001b[49m\u001b[43m[\u001b[49m\u001b[38;5;124;43m\"\u001b[39;49m\u001b[38;5;124;43mapply_fn_dec\u001b[39;49m\u001b[38;5;124;43m\"\u001b[39;49m\u001b[43m]\u001b[49m\u001b[43m(\u001b[49m\u001b[43mresult\u001b[49m\u001b[43m[\u001b[49m\u001b[38;5;124;43m\"\u001b[39;49m\u001b[38;5;124;43mparams_dec\u001b[39;49m\u001b[38;5;124;43m\"\u001b[39;49m\u001b[43m]\u001b[49m\u001b[43m,\u001b[49m\u001b[43m \u001b[49m\u001b[43mz\u001b[49m\u001b[43m)\u001b[49m\u001b[38;5;241m.\u001b[39mreshape(X\u001b[38;5;241m.\u001b[39mshape[\u001b[38;5;241m1\u001b[39m], \u001b[38;5;241m-\u001b[39m\u001b[38;5;241m1\u001b[39m)\n\u001b[0;32m     31\u001b[0m \u001b[38;5;28;01mif\u001b[39;00m gen_params[\u001b[38;5;124m\"\u001b[39m\u001b[38;5;124mprocessed\u001b[39m\u001b[38;5;124m\"\u001b[39m]:\n\u001b[0;32m     32\u001b[0m     x \u001b[38;5;241m=\u001b[39m OMAT \u001b[38;5;241m@\u001b[39m x\n",
      "\u001b[1;31mTypeError\u001b[0m: 'NoneType' object is not callable"
     ]
    }
   ],
   "source": [
    "from generative_ecg.generate import generate_ecgs\n",
    "from generative_ecg.train import load_vae_from_ckpt\n",
    "\n",
    "gen_params = {\n",
    "    \"seed\": 0,\n",
    "    \"n_ecgs\": 10,\n",
    "    \"z_dim\": 512,\n",
    "    \"processed\": True,\n",
    "    \"n_channels\": 12,\n",
    "    \"find_closest_real\": False,\n",
    "    \"std\": None,\n",
    "    \"title\": \"ECG\",\n",
    "    \"ylim\": None,\n",
    "}\n",
    "\n",
    "result = load_vae_from_ckpt(X_tr, model_params, ckpt_dir=result_path + \"/vae_model_checkpoint/\")\n",
    "generate_ecgs(X_tr, result, gen_params, save_dir=result_path + \"/generated_ecgs/\")"
   ]
  },
  {
   "cell_type": "code",
   "execution_count": null,
   "metadata": {},
   "outputs": [],
   "source": []
  }
 ],
 "metadata": {
  "kernelspec": {
   "display_name": ".venv",
   "language": "python",
   "name": "python3"
  },
  "language_info": {
   "codemirror_mode": {
    "name": "ipython",
    "version": 3
   },
   "file_extension": ".py",
   "mimetype": "text/x-python",
   "name": "python",
   "nbconvert_exporter": "python",
   "pygments_lexer": "ipython3",
   "version": "3.12.7"
  }
 },
 "nbformat": 4,
 "nbformat_minor": 2
}
