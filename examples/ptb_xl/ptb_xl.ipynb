{
 "cells": [
  {
   "cell_type": "code",
   "execution_count": null,
   "metadata": {},
   "outputs": [
    {
     "name": "stderr",
     "output_type": "stream",
     "text": [
      "Loading data from records: 100%|██████████| 21799/21799 [21:38<00:00, 16.79it/s]   \n"
     ]
    }
   ],
   "source": [
    "from generative_ecg.dataset import load_signals, get_peaks, segment, filter_beats, project, save_beat_dataset, load_beat_dataset\n",
    "from generative_ecg.train import train_cnn\n",
    "from generative_ecg.train import train_vae\n",
    "# from generative_ecg.generate.generate_ecg import generate_and_save_ecgs\n",
    "\n",
    "from pathlib import Path\n",
    "\n",
    "ptb_xl_path = r\"C:\\Users\\Aaron Zhang\\Desktop\\ecg_project\\generative_ecg\\examples\\ptb_xl\\data\"\n",
    "result_path = r\"C:\\Users\\Aaron Zhang\\Desktop\\ecg_project\\generative_ecg\\examples\\ptb_xl\\results\"\n",
    "\n",
    "x_signals, y_signals = load_signals(filepath=ptb_xl_path, sampling_rate=500)\n",
    "x_beats, y_beats = [], []\n",
    "\n",
    "# TESTING\n",
    "import jax\n",
    "jax.numpy.save(result_path + r\"\\unprocessed\\x_signals.npy\", x_signals)\n",
    "jax.numpy.save(result_path + r\"\\unprocessed\\y_signals.npy\", y_signals)"
   ]
  },
  {
   "cell_type": "markdown",
   "metadata": {},
   "source": [
    "# Generative ECG Example"
   ]
  },
  {
   "cell_type": "code",
   "execution_count": 2,
   "metadata": {},
   "outputs": [
    {
     "name": "stderr",
     "output_type": "stream",
     "text": [
      "Processing and Filtering Beats:  11%|█         | 2327/21799 [04:33<43:21,  7.48it/s]  c:\\Users\\Aaron Zhang\\miniconda3\\envs\\ecg_project\\Lib\\site-packages\\neurokit2\\signal\\signal_fixpeaks.py:307: RuntimeWarning: divide by zero encountered in divide\n",
      "  mrrs /= th2\n",
      "c:\\Users\\Aaron Zhang\\miniconda3\\envs\\ecg_project\\Lib\\site-packages\\neurokit2\\signal\\signal_fixpeaks.py:307: RuntimeWarning: invalid value encountered in divide\n",
      "  mrrs /= th2\n",
      "Processing and Filtering Beats:  26%|██▋       | 5736/21799 [13:49<51:31,  5.20it/s]  c:\\Users\\Aaron Zhang\\miniconda3\\envs\\ecg_project\\Lib\\site-packages\\neurokit2\\signal\\signal_fixpeaks.py:307: RuntimeWarning: divide by zero encountered in divide\n",
      "  mrrs /= th2\n",
      "c:\\Users\\Aaron Zhang\\miniconda3\\envs\\ecg_project\\Lib\\site-packages\\neurokit2\\signal\\signal_fixpeaks.py:307: RuntimeWarning: invalid value encountered in divide\n",
      "  mrrs /= th2\n",
      "Processing and Filtering Beats:  71%|███████   | 15449/21799 [48:22<16:19,  6.48it/s]  c:\\Users\\Aaron Zhang\\miniconda3\\envs\\ecg_project\\Lib\\site-packages\\neurokit2\\signal\\signal_fixpeaks.py:307: RuntimeWarning: divide by zero encountered in divide\n",
      "  mrrs /= th2\n",
      "c:\\Users\\Aaron Zhang\\miniconda3\\envs\\ecg_project\\Lib\\site-packages\\neurokit2\\signal\\signal_fixpeaks.py:307: RuntimeWarning: invalid value encountered in divide\n",
      "  mrrs /= th2\n",
      "Processing and Filtering Beats:  72%|███████▏  | 15635/21799 [48:54<13:13,  7.77it/s]c:\\Users\\Aaron Zhang\\miniconda3\\envs\\ecg_project\\Lib\\site-packages\\neurokit2\\signal\\signal_fixpeaks.py:307: RuntimeWarning: divide by zero encountered in divide\n",
      "  mrrs /= th2\n",
      "c:\\Users\\Aaron Zhang\\miniconda3\\envs\\ecg_project\\Lib\\site-packages\\neurokit2\\signal\\signal_fixpeaks.py:307: RuntimeWarning: invalid value encountered in divide\n",
      "  mrrs /= th2\n",
      "Processing and Filtering Beats:  77%|███████▋  | 16836/21799 [52:10<12:21,  6.69it/s]c:\\Users\\Aaron Zhang\\miniconda3\\envs\\ecg_project\\Lib\\site-packages\\neurokit2\\signal\\signal_fixpeaks.py:307: RuntimeWarning: invalid value encountered in divide\n",
      "  mrrs /= th2\n",
      "Processing and Filtering Beats:  93%|█████████▎| 20324/21799 [1:02:10<05:55,  4.15it/s]c:\\Users\\Aaron Zhang\\miniconda3\\envs\\ecg_project\\Lib\\site-packages\\neurokit2\\signal\\signal_fixpeaks.py:307: RuntimeWarning: divide by zero encountered in divide\n",
      "  mrrs /= th2\n",
      "c:\\Users\\Aaron Zhang\\miniconda3\\envs\\ecg_project\\Lib\\site-packages\\neurokit2\\signal\\signal_fixpeaks.py:307: RuntimeWarning: invalid value encountered in divide\n",
      "  mrrs /= th2\n",
      "Processing and Filtering Beats:  94%|█████████▍| 20553/21799 [1:02:48<03:53,  5.34it/s]c:\\Users\\Aaron Zhang\\miniconda3\\envs\\ecg_project\\Lib\\site-packages\\neurokit2\\signal\\signal_period.py:84: NeuroKitWarning: Too few peaks detected to compute the rate. Returning empty vector.\n",
      "  warn(\n",
      "Processing and Filtering Beats:  95%|█████████▌| 20790/21799 [1:03:27<02:28,  6.82it/s]c:\\Users\\Aaron Zhang\\miniconda3\\envs\\ecg_project\\Lib\\site-packages\\numpy\\core\\fromnumeric.py:3504: RuntimeWarning: Mean of empty slice.\n",
      "  return _methods._mean(a, axis=axis, dtype=dtype,\n",
      "c:\\Users\\Aaron Zhang\\miniconda3\\envs\\ecg_project\\Lib\\site-packages\\numpy\\core\\_methods.py:129: RuntimeWarning: invalid value encountered in scalar divide\n",
      "  ret = ret.dtype.type(ret / rcount)\n",
      "c:\\Users\\Aaron Zhang\\miniconda3\\envs\\ecg_project\\Lib\\site-packages\\neurokit2\\signal\\signal_period.py:84: NeuroKitWarning: Too few peaks detected to compute the rate. Returning empty vector.\n",
      "  warn(\n",
      "Processing and Filtering Beats: 100%|██████████| 21799/21799 [1:06:09<00:00,  5.49it/s]\n"
     ]
    },
    {
     "name": "stdout",
     "output_type": "stream",
     "text": [
      "(34064, 9, 400) (34064,)\n"
     ]
    }
   ],
   "source": [
    "from generative_ecg.dataset import load_signals, get_peaks, segment, filter_beats, project, save_beat_dataset, load_beat_dataset\n",
    "from generative_ecg.train import train_cnn\n",
    "from generative_ecg.train import train_vae\n",
    "# from generative_ecg.generate.generate_ecg import generate_and_save_ecgs\n",
    "\n",
    "from pathlib import Path\n",
    "import tqdm\n",
    "import jax\n",
    "\n",
    "ptb_xl_path = r\"C:\\Users\\Aaron Zhang\\Desktop\\ecg_project\\generative_ecg\\examples\\ptb_xl\\data\"\n",
    "result_path = r\"C:\\Users\\Aaron Zhang\\Desktop\\ecg_project\\generative_ecg\\examples\\ptb_xl\\results\"\n",
    "x_signals = jax.numpy.load(result_path + r\"\\unprocessed\\x_signals.npy\")\n",
    "y_signals = jax.numpy.load(result_path + r\"\\unprocessed\\y_signals.npy\")\n",
    "\n",
    "x_beats = jax.numpy.zeros((0, 9, 400))\n",
    "y_beats = jax.numpy.zeros((0,))\n",
    "\n",
    "for i, x_signal in enumerate(tqdm.tqdm(x_signals, desc=\"Processing and Filtering Beats\")):\n",
    "    try:\n",
    "        y_signal = y_signals[i]\n",
    "        x_peaks = get_peaks(x_signal, sampling_rate=500)\n",
    "        x_seg, x_windows = segment(x_signal, x_peaks, tmax=400)\n",
    "        x_filter, y_filter = filter_beats(x_seg, y_signal, x_windows, x_peaks, drop_first=True, drop_last=True, range_min=0.5, sd_min=0.06)\n",
    "\n",
    "        x_proj, y_proj = project(x_filter, y_filter, tol=1e-6)\n",
    "        if x_proj.shape[0] != 0:\n",
    "            x_beats = jax.numpy.concatenate([x_beats, x_proj], axis=0)\n",
    "            y_beats = jax.numpy.concatenate([y_beats, y_proj], axis=0)\n",
    "        \n",
    "    except:\n",
    "        continue\n",
    "\n",
    "print(x_beats.shape, y_beats.shape)\n",
    "# Finally, create a custom save & load pair of functions if you want to skip the above work\n",
    "save_beat_dataset(x_beats, y_beats, filepath=result_path)"
   ]
  },
  {
   "cell_type": "code",
   "execution_count": 3,
   "metadata": {},
   "outputs": [
    {
     "name": "stdout",
     "output_type": "stream",
     "text": [
      "(34064, 9, 400) (34064,)\n"
     ]
    },
    {
     "ename": "ValueError",
     "evalue": "axis 2 is out of bounds for array of dimension 2",
     "output_type": "error",
     "traceback": [
      "\u001b[1;31m---------------------------------------------------------------------------\u001b[0m",
      "\u001b[1;31mValueError\u001b[0m                                Traceback (most recent call last)",
      "Cell \u001b[1;32mIn[3], line 23\u001b[0m\n\u001b[0;32m     13\u001b[0m lr_schedule \u001b[38;5;241m=\u001b[39m optax\u001b[38;5;241m.\u001b[39mwarmup_cosine_decay_schedule(\n\u001b[0;32m     14\u001b[0m     init_value\u001b[38;5;241m=\u001b[39m\u001b[38;5;241m1e-3\u001b[39m,\n\u001b[0;32m     15\u001b[0m     peak_value\u001b[38;5;241m=\u001b[39m\u001b[38;5;241m1e-2\u001b[39m,\n\u001b[1;32m   (...)\u001b[0m\n\u001b[0;32m     18\u001b[0m     end_value\u001b[38;5;241m=\u001b[39m\u001b[38;5;241m1e-3\u001b[39m\n\u001b[0;32m     19\u001b[0m )\n\u001b[0;32m     21\u001b[0m X_tr, X_te, y_tr, y_te \u001b[38;5;241m=\u001b[39m sklearn\u001b[38;5;241m.\u001b[39mmodel_selection\u001b[38;5;241m.\u001b[39mtrain_test_split(x_beats, y_beats, random_state\u001b[38;5;241m=\u001b[39m\u001b[38;5;241m42\u001b[39m)\n\u001b[1;32m---> 23\u001b[0m state \u001b[38;5;241m=\u001b[39m \u001b[43mtrain_cnn\u001b[49m\u001b[43m(\u001b[49m\u001b[43mX_tr\u001b[49m\u001b[43m,\u001b[49m\u001b[43m \u001b[49m\u001b[43mX_te\u001b[49m\u001b[43m,\u001b[49m\u001b[43m \u001b[49m\u001b[43my_tr\u001b[49m\u001b[43m,\u001b[49m\u001b[43m \u001b[49m\u001b[43my_te\u001b[49m\u001b[43m,\u001b[49m\u001b[43m \u001b[49m\u001b[43mmodel\u001b[49m\u001b[43m,\u001b[49m\u001b[43m \u001b[49m\u001b[43mloss_fn\u001b[49m\u001b[43m,\u001b[49m\u001b[43m \u001b[49m\u001b[43mlr_schedule\u001b[49m\u001b[43m,\u001b[49m\u001b[43m \u001b[49m\u001b[43mckpt_dir\u001b[49m\u001b[38;5;241;43m=\u001b[39;49m\u001b[43mresult_path\u001b[49m\u001b[43m,\u001b[49m\u001b[43m \u001b[49m\u001b[43mbatch_size\u001b[49m\u001b[38;5;241;43m=\u001b[39;49m\u001b[38;5;241;43m64\u001b[39;49m\u001b[43m)\u001b[49m\n",
      "File \u001b[1;32m~\\Desktop\\ecg_project\\generative_ecg\\src\\generative_ecg\\train\\train_cnn_model.py:27\u001b[0m, in \u001b[0;36mtrain_cnn\u001b[1;34m(X_tr, X_te, y_tr, y_te, model, loss_fn, lr_schedule, ckpt_dir, batch_size)\u001b[0m\n\u001b[0;32m     25\u001b[0m optimizer \u001b[38;5;241m=\u001b[39m optax\u001b[38;5;241m.\u001b[39madam(lr_schedule)\n\u001b[0;32m     26\u001b[0m model_key \u001b[38;5;241m=\u001b[39m jax\u001b[38;5;241m.\u001b[39mrandom\u001b[38;5;241m.\u001b[39mPRNGKey(\u001b[38;5;241m0\u001b[39m)\n\u001b[1;32m---> 27\u001b[0m params \u001b[38;5;241m=\u001b[39m \u001b[43mmodel\u001b[49m\u001b[38;5;241;43m.\u001b[39;49m\u001b[43minit\u001b[49m\u001b[43m(\u001b[49m\u001b[43mmodel_key\u001b[49m\u001b[43m,\u001b[49m\u001b[43m \u001b[49m\u001b[43mX_tr\u001b[49m\u001b[43m[\u001b[49m\u001b[38;5;241;43m0\u001b[39;49m\u001b[43m]\u001b[49m\u001b[43m)\u001b[49m\n\u001b[0;32m     28\u001b[0m state \u001b[38;5;241m=\u001b[39m flax\u001b[38;5;241m.\u001b[39mtraining\u001b[38;5;241m.\u001b[39mtrain_state\u001b[38;5;241m.\u001b[39mTrainState\u001b[38;5;241m.\u001b[39mcreate(apply_fn\u001b[38;5;241m=\u001b[39mmodel\u001b[38;5;241m.\u001b[39mapply, params\u001b[38;5;241m=\u001b[39mparams, tx\u001b[38;5;241m=\u001b[39moptimizer)\n\u001b[0;32m     29\u001b[0m \u001b[38;5;66;03m# QUESTION: DO WE SPLIT TRAIN/TEST, OR DOES THE USER IF WE'RE CALCULATING TR/TE values\u001b[39;00m\n",
      "    \u001b[1;31m[... skipping hidden 9 frame]\u001b[0m\n",
      "File \u001b[1;32m~\\Desktop\\ecg_project\\generative_ecg\\src\\generative_ecg\\models\\nn_models.py:43\u001b[0m, in \u001b[0;36mECGConv.__call__\u001b[1;34m(self, x, training)\u001b[0m\n\u001b[0;32m     39\u001b[0m \u001b[38;5;129m@nn\u001b[39m\u001b[38;5;241m.\u001b[39mcompact\n\u001b[0;32m     40\u001b[0m \u001b[38;5;28;01mdef\u001b[39;00m \u001b[38;5;21m__call__\u001b[39m(\u001b[38;5;28mself\u001b[39m, x, training\u001b[38;5;241m=\u001b[39m\u001b[38;5;28;01mTrue\u001b[39;00m):\n\u001b[0;32m     41\u001b[0m     \u001b[38;5;66;03m# Input shape: (batch_size, n_channels, tmax)\u001b[39;00m\n\u001b[0;32m     42\u001b[0m     \u001b[38;5;66;03m# Reshape to (batch_size, tmax, n_channels) for conv layers\u001b[39;00m\n\u001b[1;32m---> 43\u001b[0m     x \u001b[38;5;241m=\u001b[39m \u001b[43mjnp\u001b[49m\u001b[38;5;241;43m.\u001b[39;49m\u001b[43mtranspose\u001b[49m\u001b[43m(\u001b[49m\u001b[43mx\u001b[49m\u001b[43m,\u001b[49m\u001b[43m \u001b[49m\u001b[43m(\u001b[49m\u001b[38;5;241;43m0\u001b[39;49m\u001b[43m,\u001b[49m\u001b[43m \u001b[49m\u001b[38;5;241;43m2\u001b[39;49m\u001b[43m,\u001b[49m\u001b[43m \u001b[49m\u001b[38;5;241;43m1\u001b[39;49m\u001b[43m)\u001b[49m\u001b[43m)\u001b[49m\n\u001b[0;32m     45\u001b[0m     \u001b[38;5;66;03m# Initial feature dimension\u001b[39;00m\n\u001b[0;32m     46\u001b[0m     features \u001b[38;5;241m=\u001b[39m \u001b[38;5;28mself\u001b[39m\u001b[38;5;241m.\u001b[39mhidden_dim\n",
      "File \u001b[1;32mc:\\Users\\Aaron Zhang\\miniconda3\\envs\\ecg_project\\Lib\\site-packages\\jax\\_src\\numpy\\lax_numpy.py:558\u001b[0m, in \u001b[0;36mtranspose\u001b[1;34m(a, axes)\u001b[0m\n\u001b[0;32m    556\u001b[0m util\u001b[38;5;241m.\u001b[39mcheck_arraylike(\u001b[38;5;124m\"\u001b[39m\u001b[38;5;124mtranspose\u001b[39m\u001b[38;5;124m\"\u001b[39m, a)\n\u001b[0;32m    557\u001b[0m axes_ \u001b[38;5;241m=\u001b[39m \u001b[38;5;28mlist\u001b[39m(\u001b[38;5;28mrange\u001b[39m(ndim(a))[::\u001b[38;5;241m-\u001b[39m\u001b[38;5;241m1\u001b[39m]) \u001b[38;5;28;01mif\u001b[39;00m axes \u001b[38;5;129;01mis\u001b[39;00m \u001b[38;5;28;01mNone\u001b[39;00m \u001b[38;5;28;01melse\u001b[39;00m axes\n\u001b[1;32m--> 558\u001b[0m axes_ \u001b[38;5;241m=\u001b[39m [\u001b[43m_canonicalize_axis\u001b[49m\u001b[43m(\u001b[49m\u001b[43mi\u001b[49m\u001b[43m,\u001b[49m\u001b[43m \u001b[49m\u001b[43mndim\u001b[49m\u001b[43m(\u001b[49m\u001b[43ma\u001b[49m\u001b[43m)\u001b[49m\u001b[43m)\u001b[49m \u001b[38;5;28;01mfor\u001b[39;00m i \u001b[38;5;129;01min\u001b[39;00m axes_]\n\u001b[0;32m    559\u001b[0m \u001b[38;5;28;01mreturn\u001b[39;00m lax\u001b[38;5;241m.\u001b[39mtranspose(a, axes_)\n",
      "File \u001b[1;32mc:\\Users\\Aaron Zhang\\miniconda3\\envs\\ecg_project\\Lib\\site-packages\\jax\\_src\\util.py:352\u001b[0m, in \u001b[0;36mcanonicalize_axis\u001b[1;34m(axis, num_dims)\u001b[0m\n\u001b[0;32m    350\u001b[0m axis \u001b[38;5;241m=\u001b[39m operator\u001b[38;5;241m.\u001b[39mindex(axis)\n\u001b[0;32m    351\u001b[0m \u001b[38;5;28;01mif\u001b[39;00m \u001b[38;5;129;01mnot\u001b[39;00m \u001b[38;5;241m-\u001b[39mnum_dims \u001b[38;5;241m<\u001b[39m\u001b[38;5;241m=\u001b[39m axis \u001b[38;5;241m<\u001b[39m num_dims:\n\u001b[1;32m--> 352\u001b[0m   \u001b[38;5;28;01mraise\u001b[39;00m \u001b[38;5;167;01mValueError\u001b[39;00m(\u001b[38;5;124mf\u001b[39m\u001b[38;5;124m\"\u001b[39m\u001b[38;5;124maxis \u001b[39m\u001b[38;5;132;01m{\u001b[39;00maxis\u001b[38;5;132;01m}\u001b[39;00m\u001b[38;5;124m is out of bounds for array of dimension \u001b[39m\u001b[38;5;132;01m{\u001b[39;00mnum_dims\u001b[38;5;132;01m}\u001b[39;00m\u001b[38;5;124m\"\u001b[39m)\n\u001b[0;32m    353\u001b[0m \u001b[38;5;28;01mif\u001b[39;00m axis \u001b[38;5;241m<\u001b[39m \u001b[38;5;241m0\u001b[39m:\n\u001b[0;32m    354\u001b[0m   axis \u001b[38;5;241m=\u001b[39m axis \u001b[38;5;241m+\u001b[39m num_dims\n",
      "\u001b[1;31mValueError\u001b[0m: axis 2 is out of bounds for array of dimension 2"
     ]
    }
   ],
   "source": [
    "from generative_ecg.models import ECGConv, rmse_loss\n",
    "from generative_ecg.dataset import load_signals, get_peaks, segment, filter_beats, project, save_beat_dataset, load_beat_dataset\n",
    "from generative_ecg.train import train_cnn\n",
    "import optax\n",
    "import sklearn\n",
    "\n",
    "x_beats, y_beats = load_beat_dataset(filepath=result_path)\n",
    "\n",
    "print(x_beats.shape, y_beats.shape)\n",
    "\n",
    "model = ECGConv(tmax=400, n_channels=12, n_layers_conv=2, n_layers_dense=2, n_outputs=4)\n",
    "loss_fn = rmse_loss\n",
    "lr_schedule = optax.warmup_cosine_decay_schedule(\n",
    "    init_value=1e-3,\n",
    "    peak_value=1e-2,\n",
    "    warmup_steps=50,\n",
    "    decay_steps=1000,\n",
    "    end_value=1e-3\n",
    ")\n",
    "\n",
    "X_tr, X_te, y_tr, y_te = sklearn.model_selection.train_test_split(x_beats, y_beats, random_state=42)\n",
    "\n",
    "state = train_cnn(X_tr, X_te, y_tr, y_te, model, loss_fn, lr_schedule, ckpt_dir=result_path, batch_size=64)"
   ]
  },
  {
   "cell_type": "code",
   "execution_count": null,
   "metadata": {},
   "outputs": [],
   "source": [
    "# del y_tr, X_te, y_te\n",
    "result_path = Path(result_path)\n",
    "result = train_vae(X_tr, ckpt_dir, result_path, beat_segment=True, processed=True, n_epochs=5)"
   ]
  },
  {
   "cell_type": "code",
   "execution_count": null,
   "metadata": {},
   "outputs": [],
   "source": [
    "generate_and_save_ecgs(X_tr, result, result_path, processed=True)"
   ]
  }
 ],
 "metadata": {
  "kernelspec": {
   "display_name": "ecg_project",
   "language": "python",
   "name": "python3"
  },
  "language_info": {
   "codemirror_mode": {
    "name": "ipython",
    "version": 3
   },
   "file_extension": ".py",
   "mimetype": "text/x-python",
   "name": "python",
   "nbconvert_exporter": "python",
   "pygments_lexer": "ipython3",
   "version": "3.12.7"
  }
 },
 "nbformat": 4,
 "nbformat_minor": 2
}
