{
 "cells": [
  {
   "cell_type": "code",
   "execution_count": null,
   "metadata": {},
   "outputs": [
    {
     "name": "stderr",
     "output_type": "stream",
     "text": [
      "Loading data from records: 100%|██████████| 21799/21799 [21:38<00:00, 16.79it/s]   \n"
     ]
    }
   ],
   "source": [
    "from generative_ecg.dataset import load_signals, get_peaks, segment, filter_beats, project, save_beat_dataset, load_beat_dataset\n",
    "from generative_ecg.train import train_cnn\n",
    "from generative_ecg.train import train_vae\n",
    "# from generative_ecg.generate.generate_ecg import generate_and_save_ecgs\n",
    "\n",
    "from pathlib import Path\n",
    "\n",
    "ptb_xl_path = r\"C:\\Users\\Aaron Zhang\\Desktop\\ecg_project\\generative_ecg\\examples\\ptb_xl\\data\"\n",
    "result_path = r\"C:\\Users\\Aaron Zhang\\Desktop\\ecg_project\\generative_ecg\\examples\\ptb_xl\\results\"\n",
    "\n",
    "x_signals, y_signals = load_signals(filepath=ptb_xl_path, sampling_rate=500)\n",
    "x_beats, y_beats = [], []\n",
    "\n",
    "# TESTING\n",
    "import jax\n",
    "jax.numpy.save(result_path + r\"\\unprocessed\\x_signals.npy\", x_signals)\n",
    "jax.numpy.save(result_path + r\"\\unprocessed\\y_signals.npy\", y_signals)"
   ]
  },
  {
   "cell_type": "markdown",
   "metadata": {},
   "source": [
    "# Generative ECG Example"
   ]
  },
  {
   "cell_type": "code",
   "execution_count": 4,
   "metadata": {},
   "outputs": [
    {
     "name": "stderr",
     "output_type": "stream",
     "text": [
      "Processing and Filtering Beats:   0%|          | 0/500 [00:01<?, ?it/s]\n"
     ]
    },
    {
     "ename": "TypeError",
     "evalue": "unsupported operand type(s) for +: 'list' and 'ArrayImpl'",
     "output_type": "error",
     "traceback": [
      "\u001b[1;31m---------------------------------------------------------------------------\u001b[0m",
      "\u001b[1;31mTypeError\u001b[0m                                 Traceback (most recent call last)",
      "Cell \u001b[1;32mIn[4], line 25\u001b[0m\n\u001b[0;32m     22\u001b[0m x_filter, y_filter \u001b[38;5;241m=\u001b[39m filter_beats(x_seg, y_signal, x_windows, x_peaks, drop_first\u001b[38;5;241m=\u001b[39m\u001b[38;5;28;01mTrue\u001b[39;00m, drop_last\u001b[38;5;241m=\u001b[39m\u001b[38;5;28;01mTrue\u001b[39;00m, range_min\u001b[38;5;241m=\u001b[39m\u001b[38;5;241m0.5\u001b[39m, sd_min\u001b[38;5;241m=\u001b[39m\u001b[38;5;241m0.06\u001b[39m)\n\u001b[0;32m     24\u001b[0m x_proj, y_proj \u001b[38;5;241m=\u001b[39m project(x_filter, y_filter, tol\u001b[38;5;241m=\u001b[39m\u001b[38;5;241m1e-6\u001b[39m)\n\u001b[1;32m---> 25\u001b[0m \u001b[43mx_beats\u001b[49m\u001b[43m \u001b[49m\u001b[38;5;241;43m+\u001b[39;49m\u001b[38;5;241;43m=\u001b[39;49m\u001b[43m \u001b[49m\u001b[43mx_proj\u001b[49m\n\u001b[0;32m     26\u001b[0m y_beats \u001b[38;5;241m+\u001b[39m\u001b[38;5;241m=\u001b[39m y_proj\n\u001b[0;32m     28\u001b[0m \u001b[38;5;66;03m# try:\u001b[39;00m\n\u001b[0;32m     29\u001b[0m \u001b[38;5;66;03m#     print(5)\u001b[39;00m\n\u001b[0;32m     30\u001b[0m \n\u001b[0;32m     31\u001b[0m \u001b[38;5;66;03m# except:\u001b[39;00m\n\u001b[0;32m     32\u001b[0m \u001b[38;5;66;03m#     continue\u001b[39;00m\n",
      "File \u001b[1;32mc:\\Users\\Aaron Zhang\\miniconda3\\envs\\ecg_project\\Lib\\site-packages\\jax\\_src\\numpy\\array_methods.py:273\u001b[0m, in \u001b[0;36m_defer_to_unrecognized_arg.<locals>.deferring_binary_op\u001b[1;34m(self, other)\u001b[0m\n\u001b[0;32m    270\u001b[0m \u001b[38;5;66;03m# Note: don't use isinstance here, because we don't want to raise for\u001b[39;00m\n\u001b[0;32m    271\u001b[0m \u001b[38;5;66;03m# subclasses, e.g. NamedTuple objects that may override operators.\u001b[39;00m\n\u001b[0;32m    272\u001b[0m \u001b[38;5;28;01mif\u001b[39;00m \u001b[38;5;28mtype\u001b[39m(other) \u001b[38;5;129;01min\u001b[39;00m _rejected_binop_types:\n\u001b[1;32m--> 273\u001b[0m   \u001b[38;5;28;01mraise\u001b[39;00m \u001b[38;5;167;01mTypeError\u001b[39;00m(\u001b[38;5;124mf\u001b[39m\u001b[38;5;124m\"\u001b[39m\u001b[38;5;124munsupported operand type(s) for \u001b[39m\u001b[38;5;132;01m{\u001b[39;00mopchar\u001b[38;5;132;01m}\u001b[39;00m\u001b[38;5;124m: \u001b[39m\u001b[38;5;124m\"\u001b[39m\n\u001b[0;32m    274\u001b[0m                   \u001b[38;5;124mf\u001b[39m\u001b[38;5;124m\"\u001b[39m\u001b[38;5;132;01m{\u001b[39;00m\u001b[38;5;28mtype\u001b[39m(args[\u001b[38;5;241m0\u001b[39m])\u001b[38;5;241m.\u001b[39m\u001b[38;5;18m__name__\u001b[39m\u001b[38;5;132;01m!r}\u001b[39;00m\u001b[38;5;124m and \u001b[39m\u001b[38;5;132;01m{\u001b[39;00m\u001b[38;5;28mtype\u001b[39m(args[\u001b[38;5;241m1\u001b[39m])\u001b[38;5;241m.\u001b[39m\u001b[38;5;18m__name__\u001b[39m\u001b[38;5;132;01m!r}\u001b[39;00m\u001b[38;5;124m\"\u001b[39m)\n\u001b[0;32m    275\u001b[0m \u001b[38;5;28;01mreturn\u001b[39;00m \u001b[38;5;28mNotImplemented\u001b[39m\n",
      "\u001b[1;31mTypeError\u001b[0m: unsupported operand type(s) for +: 'list' and 'ArrayImpl'"
     ]
    }
   ],
   "source": [
    "from generative_ecg.dataset import load_signals, get_peaks, segment, filter_beats, project, save_beat_dataset, load_beat_dataset\n",
    "from generative_ecg.train import train_cnn\n",
    "from generative_ecg.train import train_vae\n",
    "# from generative_ecg.generate.generate_ecg import generate_and_save_ecgs\n",
    "\n",
    "from pathlib import Path\n",
    "import tqdm\n",
    "import jax\n",
    "\n",
    "ptb_xl_path = r\"C:\\Users\\Aaron Zhang\\Desktop\\ecg_project\\generative_ecg\\examples\\ptb_xl\\data\"\n",
    "result_path = r\"C:\\Users\\Aaron Zhang\\Desktop\\ecg_project\\generative_ecg\\examples\\ptb_xl\\results\"\n",
    "x_signals = jax.numpy.load(result_path + r\"\\unprocessed\\x_signals.npy\")\n",
    "y_signals = jax.numpy.load(result_path + r\"\\unprocessed\\y_signals.npy\")\n",
    "\n",
    "x_beats, y_beats = [], []\n",
    "\n",
    "for i, x_signal in enumerate(tqdm.tqdm(x_signals[:500], desc=\"Processing and Filtering Beats\")):\n",
    "    y_signal = y_signals[i]\n",
    "    x_peaks = get_peaks(x_signal, sampling_rate=500)\n",
    "    # TODO: ask whether process function has to use jax, because jax.numpy.array cannot take in variable len\n",
    "    x_seg, x_windows = segment(x_signal, x_peaks, tmax=400)\n",
    "    x_filter, y_filter = filter_beats(x_seg, y_signal, x_windows, x_peaks, drop_first=True, drop_last=True, range_min=0.5, sd_min=0.06)\n",
    "    \n",
    "    x_proj, y_proj = project(x_filter, y_filter, tol=1e-6)\n",
    "    x_beats += x_proj\n",
    "    y_beats += y_proj\n",
    "\n",
    "    # try:\n",
    "    #     print(5)\n",
    "\n",
    "    # except:\n",
    "    #     continue\n",
    "\n",
    "print(x_beats, y_beats)\n",
    "\n",
    "# Finally, create a custom save & load pair of functions if you want to skip the above work\n",
    "save_beat_dataset(x_beats, y_beats, filepath=result_path)"
   ]
  },
  {
   "cell_type": "code",
   "execution_count": 1,
   "metadata": {},
   "outputs": [
    {
     "name": "stderr",
     "output_type": "stream",
     "text": [
      "\n",
      "KeyboardInterrupt\n",
      "\n"
     ]
    }
   ],
   "source": [
    "from generative_ecg.models import ECGConv, rmse_loss\n",
    "from generative_ecg.dataset import load_signals, get_peaks, segment, filter_beats, project, save_beat_dataset, load_beat_dataset\n",
    "import optax\n",
    "import sklearn\n",
    "\n",
    "x_beats, y_beats = load_beat_dataset(filepath=result_path)\n",
    "\n",
    "print(x_beats)\n",
    "\n",
    "model = ECGConv(tmax=400, n_channels=12, n_layers_conv=2, n_layers_dense=2, n_outputs=4)\n",
    "loss_fn = rmse_loss\n",
    "lr_schedule = optax.warmup_cosine_decay_schedule(\n",
    "    init_value=1e-3,\n",
    "    peak_value=1e-2,\n",
    "    warmup_steps=50,\n",
    "    decay_steps=1000,\n",
    "    end_value=1e-3\n",
    ")\n",
    "\n",
    "X_tr, X_te, y_tr, y_te = sklearn.model_selection.train_test_split(x_beats, y_beats, random_state=42)\n",
    "\n",
    "state = gen_ecg.train.train_cnn(X_tr, X_te, y_tr, y_te, model, loss_fn, lr_schedule, ckpt_dir=result_path, batch_size=64)"
   ]
  },
  {
   "cell_type": "code",
   "execution_count": null,
   "metadata": {},
   "outputs": [],
   "source": [
    "# del y_tr, X_te, y_te\n",
    "result_path = Path(result_path)\n",
    "result = train_vae(X_tr, ckpt_dir, result_path, beat_segment=True, processed=True, n_epochs=5)"
   ]
  },
  {
   "cell_type": "code",
   "execution_count": null,
   "metadata": {},
   "outputs": [],
   "source": [
    "generate_and_save_ecgs(X_tr, result, result_path, processed=True)"
   ]
  }
 ],
 "metadata": {
  "kernelspec": {
   "display_name": "ecg_project",
   "language": "python",
   "name": "python3"
  },
  "language_info": {
   "codemirror_mode": {
    "name": "ipython",
    "version": 3
   },
   "file_extension": ".py",
   "mimetype": "text/x-python",
   "name": "python",
   "nbconvert_exporter": "python",
   "pygments_lexer": "ipython3",
   "version": "3.12.7"
  }
 },
 "nbformat": 4,
 "nbformat_minor": 2
}
